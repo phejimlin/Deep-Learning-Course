{
 "cells": [
  {
   "cell_type": "code",
   "execution_count": 1,
   "metadata": {
    "collapsed": true
   },
   "outputs": [],
   "source": [
    "# To support both python 2 and python 3\n",
    "from __future__ import division, print_function, unicode_literals\n",
    "\n",
    "# Common imports\n",
    "import numpy as np\n",
    "import os\n",
    "import tensorflow as tf\n",
    "\n",
    "# to make this notebook's output stable across runs\n",
    "def reset_graph(seed=42):\n",
    "    tf.reset_default_graph()\n",
    "    tf.set_random_seed(seed)\n",
    "    np.random.seed(seed)\n",
    "\n",
    "reset_graph()"
   ]
  },
  {
   "cell_type": "code",
   "execution_count": 2,
   "metadata": {},
   "outputs": [
    {
     "name": "stdout",
     "output_type": "stream",
     "text": [
      "Extracting /tmp/data/train-images-idx3-ubyte.gz\n",
      "Extracting /tmp/data/train-labels-idx1-ubyte.gz\n",
      "Extracting /tmp/data/t10k-images-idx3-ubyte.gz\n",
      "Extracting /tmp/data/t10k-labels-idx1-ubyte.gz\n"
     ]
    }
   ],
   "source": [
    "# load data: digits 5 to 9, but still label with 0 to 4, \n",
    "# because TensorFlow expects label's integers from 0 to n_classes-1.\n",
    "from tensorflow.examples.tutorials.mnist import input_data\n",
    "mnist = input_data.read_data_sets(\"/tmp/data/\")\n",
    "\n",
    "X_train2_full = mnist.train.images[mnist.train.labels >= 5]\n",
    "y_train2_full = mnist.train.labels[mnist.train.labels >= 5] - 5\n",
    "X_valid2_full = mnist.validation.images[mnist.validation.labels >= 5]\n",
    "y_valid2_full = mnist.validation.labels[mnist.validation.labels >= 5] - 5\n",
    "X_test2 = mnist.test.images[mnist.test.labels >= 5]\n",
    "y_test2 = mnist.test.labels[mnist.test.labels >= 5] - 5"
   ]
  },
  {
   "cell_type": "code",
   "execution_count": 3,
   "metadata": {
    "collapsed": true
   },
   "outputs": [],
   "source": [
    "# we want to keep only 100 instances per class in the training set \n",
    "# and let's keep only 30 instances per class in the validation set\n",
    "# tesing set is already loaded above\n",
    "def sample_n_instances_per_class(X, y, n=100):\n",
    "    Xs, ys = [], []\n",
    "    for label in np.unique(y):\n",
    "        idx = (y == label)\n",
    "        Xc = X[idx][:n]\n",
    "        yc = y[idx][:n]\n",
    "        Xs.append(Xc)\n",
    "        ys.append(yc)\n",
    "    return np.concatenate(Xs), np.concatenate(ys)\n",
    "\n",
    "X_train2, y_train2 = sample_n_instances_per_class(X_train2_full, y_train2_full, n=100)\n",
    "X_valid2, y_valid2 = sample_n_instances_per_class(X_valid2_full, y_valid2_full, n=30)"
   ]
  },
  {
   "cell_type": "code",
   "execution_count": 26,
   "metadata": {
    "scrolled": true
   },
   "outputs": [
    {
     "name": "stdout",
     "output_type": "stream",
     "text": [
      "[<tf.Variable 'logits/kernel:0' shape=(128, 5) dtype=float32_ref>, <tf.Variable 'logits/bias:0' shape=(5,) dtype=float32_ref>]\n"
     ]
    }
   ],
   "source": [
    "reset_graph()\n",
    "\n",
    "# import model from HW2\n",
    "restore_saver = tf.train.import_meta_graph(\"../HW2_DNN/Team20_HW2.ckpt.meta\")\n",
    "\n",
    "# Step1: Get tensor from HW2 model\n",
    "x = tf.get_default_graph().get_tensor_by_name(\"X:0\")\n",
    "y = tf.get_default_graph().get_tensor_by_name(\"Y:0\")\n",
    "loss = tf.get_default_graph().get_tensor_by_name(\"loss:0\")\n",
    "accuracy = tf.get_default_graph().get_tensor_by_name(\"accuracy:0\")\n",
    "training_mode = tf.get_default_graph().get_tensor_by_name(\"is_training:0\")\n",
    "\n",
    "# Step2: Get the softmax Layer\n",
    "output_layer = tf.get_collection(tf.GraphKeys.TRAINABLE_VARIABLES, scope='logits')\n",
    "\n",
    "\n",
    "# Step3: Only let softmax layer trainable\n",
    "print(output_layer)\n",
    "optimizer = tf.train.AdamOptimizer(learning_rate, name='opt')\n",
    "# optimizer = tf.get_collection(\"optimizer\")[0]\n",
    "training_op = optimizer.minimize(loss, var_list=output_layer)\n",
    "\n",
    "# y_ = tf.nn.softmax(output_layer)\n",
    "# print(y_)\n",
    "# prediction = tf.argmax(y_, 1, output_type=tf.int32) # get the index of y_ of max prob and value will be 0,1,2,3,4\n",
    "# correct_prediction = tf.equal(prediction, tf.cast(y, tf.int32))\n",
    "# accuracy = tf.reduce_mean(tf.cast(correct_prediction, tf.float32), name='accuracy')"
   ]
  },
  {
   "cell_type": "code",
   "execution_count": null,
   "metadata": {},
   "outputs": [],
   "source": [
    "# For debug\n",
    "with tf.Session() as sess:\n",
    "    sess.run(tf.global_variables_initializer())\n",
    "    restore_saver.restore(sess, \"../HW2_DNN/Team20_HW2.ckpt\")\n",
    "    y_ = sess.run(output_layer)\n",
    "    print(y_)\n",
    "#     all_vars = tf.trainable_variables()\n",
    "#     for v in all_vars:\n",
    "#         print(\"%s with value %s\" % (v.name, sess.run(v)))\n",
    "    \n",
    "    restore_saver.restore(sess, \"./Team20_HW3.ckpt\")\n",
    "    y_ = sess.run(output_layer)\n",
    "    print(y_)"
   ]
  },
  {
   "cell_type": "code",
   "execution_count": 45,
   "metadata": {
    "scrolled": true
   },
   "outputs": [
    {
     "name": "stdout",
     "output_type": "stream",
     "text": [
      "INFO:tensorflow:Restoring parameters from ../HW2_DNN/Team20_HW2.ckpt\n",
      "Epoch 0: Validation loss: 1.7691210508346558 Best loss: 1.7691210508346558 Accuracy: 0.6466666460037231 \n",
      "Epoch 1: Validation loss: 0.8087993860244751 Best loss: 0.8087993860244751 Accuracy: 0.7933333516120911 \n",
      "Epoch 2: Validation loss: 0.6772139072418213 Best loss: 0.6772139072418213 Accuracy: 0.8399999737739563 \n",
      "Epoch 3: Validation loss: 0.5612290501594543 Best loss: 0.5612290501594543 Accuracy: 0.8666666746139526 \n",
      "Epoch 4: Validation loss: 0.5395689606666565 Best loss: 0.5395689606666565 Accuracy: 0.8533333539962769 \n",
      "Epoch 5: Validation loss: 0.4974088668823242 Best loss: 0.4974088668823242 Accuracy: 0.8666666746139526 \n",
      "Epoch 6: Validation loss: 0.4809908866882324 Best loss: 0.4809908866882324 Accuracy: 0.8866666555404663 \n",
      "Epoch 7: Validation loss: 0.4638897478580475 Best loss: 0.4638897478580475 Accuracy: 0.8866667151451111 \n",
      "Epoch 8: Validation loss: 0.4550561308860779 Best loss: 0.4550561308860779 Accuracy: 0.8799999952316284 \n",
      "Epoch 9: Validation loss: 0.4453516900539398 Best loss: 0.4453516900539398 Accuracy: 0.8733333349227905 \n",
      "Epoch 10: Validation loss: 0.43973252177238464 Best loss: 0.43973252177238464 Accuracy: 0.8733333349227905 \n",
      "Epoch 11: Validation loss: 0.4339885711669922 Best loss: 0.4339885711669922 Accuracy: 0.8666666746139526 \n",
      "Epoch 12: Validation loss: 0.4312010109424591 Best loss: 0.4312010109424591 Accuracy: 0.8533332943916321 \n",
      "Epoch 13: Validation loss: 0.42825907468795776 Best loss: 0.42825907468795776 Accuracy: 0.8533332943916321 \n",
      "Epoch 14: Validation loss: 0.42745280265808105 Best loss: 0.42745280265808105 Accuracy: 0.85999995470047 \n",
      "Epoch 15: Validation loss: 0.42659106850624084 Best loss: 0.42659106850624084 Accuracy: 0.8799999952316284 \n",
      "Epoch 16: Validation loss: 0.427059531211853 Best loss: 0.42659106850624084 Accuracy: 0.8733333349227905 \n",
      "Epoch 17: Validation loss: 0.427488774061203 Best loss: 0.42659106850624084 Accuracy: 0.8799999952316284 \n",
      "Epoch 18: Validation loss: 0.428709477186203 Best loss: 0.42659106850624084 Accuracy: 0.8799999952316284 \n",
      "Epoch 19: Validation loss: 0.42991170287132263 Best loss: 0.42659106850624084 Accuracy: 0.8799999952316284 \n",
      "Epoch 20: Validation loss: 0.43156731128692627 Best loss: 0.42659106850624084 Accuracy: 0.8799999952316284 \n",
      "Epoch 21: Validation loss: 0.4331901967525482 Best loss: 0.42659106850624084 Accuracy: 0.8799999952316284 \n",
      "Epoch 22: Validation loss: 0.4350528419017792 Best loss: 0.42659106850624084 Accuracy: 0.8799999952316284 \n",
      "Epoch 23: Validation loss: 0.43685153126716614 Best loss: 0.42659106850624084 Accuracy: 0.8799999952316284 \n",
      "Epoch 24: Validation loss: 0.43874818086624146 Best loss: 0.42659106850624084 Accuracy: 0.8799999952316284 \n",
      "Epoch 25: Validation loss: 0.4405471384525299 Best loss: 0.42659106850624084 Accuracy: 0.8799999952316284 \n",
      "Epoch 26: Validation loss: 0.44235092401504517 Best loss: 0.42659106850624084 Accuracy: 0.8799999952316284 \n",
      "Epoch 27: Validation loss: 0.4440423846244812 Best loss: 0.42659106850624084 Accuracy: 0.8799999952316284 \n",
      "Epoch 28: Validation loss: 0.445705384016037 Best loss: 0.42659106850624084 Accuracy: 0.8799999952316284 \n",
      "Epoch 29: Validation loss: 0.4472939372062683 Best loss: 0.42659106850624084 Accuracy: 0.8866666555404663 \n",
      "Epoch 30: Validation loss: 0.4488845467567444 Best loss: 0.42659106850624084 Accuracy: 0.8866666555404663 \n",
      "Epoch 31: Validation loss: 0.4504634737968445 Best loss: 0.42659106850624084 Accuracy: 0.8866666555404663 \n",
      "Epoch 32: Validation loss: 0.452073335647583 Best loss: 0.42659106850624084 Accuracy: 0.8866666555404663 \n",
      "Epoch 33: Validation loss: 0.45370009541511536 Best loss: 0.42659106850624084 Accuracy: 0.8866666555404663 \n",
      "Epoch 34: Validation loss: 0.45536094903945923 Best loss: 0.42659106850624084 Accuracy: 0.8866666555404663 \n",
      "INFO:tensorflow:Restoring parameters from ./Team20_HW3.ckpt\n",
      "Test accuracy:  0.841185\n"
     ]
    }
   ],
   "source": [
    "init_g = tf.global_variables_initializer()\n",
    "\n",
    "# some params\n",
    "batch_size = 20\n",
    "learning_rate = 0.01\n",
    "\n",
    "training_epochs = 1000\n",
    "# If validation accuracy does not improve after certain steps of training, apply early stopping\n",
    "early_stopping_epoch = 20\n",
    "\n",
    "# Early stopping variables\n",
    "best_loss = 10000000\n",
    "best_epoch = 0\n",
    "early_stopped = False\n",
    "\n",
    "# Prepare our training dataset with batch\n",
    "dataset_batch = tf.contrib.data.Dataset.from_tensor_slices((X_train2, y_train2)).batch(batch_size).repeat(training_epochs)\n",
    "dataset_batch = dataset_batch.make_initializable_iterator()\n",
    "\n",
    "# An epoch means one iteration over all of the training data\n",
    "train_steps = round(len(X_train2) / batch_size)\n",
    "\n",
    "# Saver\n",
    "saver = tf.train.Saver()\n",
    "\n",
    "\n",
    "with tf.Session() as sess:\n",
    "    # initialize\n",
    "    sess.run(init_g)\n",
    "    sess.run(dataset_batch.initializer)\n",
    "    \n",
    "    # restore our model\n",
    "    restore_saver.restore(sess, \"../HW2_DNN/Team20_HW2.ckpt\")\n",
    "    for var in output_layer:\n",
    "        var.initializer.run()\n",
    "    \n",
    "    # Training 1000 epochs\n",
    "    for epoch in range(0, training_epochs):\n",
    "        # Training steps\n",
    "        for i in range(train_steps):\n",
    "            X_in, y_in = sess.run(dataset_batch.get_next())\n",
    "            sess.run(training_op, feed_dict={x: X_in, y: y_in, training_mode: False})\n",
    "\n",
    "        # Validate accuracy every epoch\n",
    "        curr_loss, curr_accuracy = sess.run([loss, accuracy], feed_dict={x: X_valid2, y: y_valid2, training_mode: False})\n",
    "        \n",
    "        # Save checkpoint of current model if it performs better\n",
    "        if best_loss > curr_loss:\n",
    "            best_loss = curr_loss\n",
    "            save_path = saver.save(sess, \"./Team20_HW3.ckpt\")\n",
    "            best_epoch = epoch        \n",
    "        # Early stop if model does not improve for certain epoch\n",
    "        elif epoch - best_epoch >= early_stopping_epoch:\n",
    "            early_stopped = True\n",
    "            break\n",
    "        \n",
    "        print(\"Epoch {}: Validation loss: {} Best loss: {} Accuracy: {} \".format(epoch, curr_loss, best_loss ,curr_accuracy))\n",
    "\n",
    "    # Save checkpoint in case the training is not early-stopped\n",
    "    if not early_stopped:\n",
    "        print(\"save best model\")\n",
    "        save_path = saver.save(sess, \"./Team20_HW3.ckpt\")\n",
    "\n",
    "    # Get the best model\n",
    "    saver.restore(sess, \"./Team20_HW3.ckpt\")\n",
    "    \n",
    "    # Total accuracy\n",
    "    final_accuracy = sess.run(accuracy, feed_dict={x: X_test2, y: y_test2, training_mode: False})\n",
    "    print(\"Test accuracy: \", final_accuracy)\n"
   ]
  }
 ],
 "metadata": {
  "kernelspec": {
   "display_name": "Python [default]",
   "language": "python",
   "name": "python3"
  },
  "language_info": {
   "codemirror_mode": {
    "name": "ipython",
    "version": 3
   },
   "file_extension": ".py",
   "mimetype": "text/x-python",
   "name": "python",
   "nbconvert_exporter": "python",
   "pygments_lexer": "ipython3",
   "version": "3.5.3"
  }
 },
 "nbformat": 4,
 "nbformat_minor": 2
}
